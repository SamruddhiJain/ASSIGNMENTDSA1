{
 "cells": [
  {
   "cell_type": "code",
   "execution_count": 4,
   "id": "7b202f4b",
   "metadata": {},
   "outputs": [
    {
     "name": "stdout",
     "output_type": "stream",
     "text": [
      "(1,5)\n",
      "(1,5)\n",
      "(7,-1)\n"
     ]
    }
   ],
   "source": [
    "# 1 Program\n",
    "def printPair(arr,n,sum):\n",
    "    \n",
    "    for i in range(0,n):\n",
    "        for j in range(i+1,n):\n",
    "            if(arr[i]+arr[j] == sum):\n",
    "                print(\"(\",arr[i],\n",
    "                      \",\",arr[j],\n",
    "                      \")\", sep = \"\")\n",
    "arr =[1,5,7,-1,5]\n",
    "n = len(arr)\n",
    "sum = 6\n",
    "printPair(arr,n,sum)"
   ]
  },
  {
   "cell_type": "code",
   "execution_count": 5,
   "id": "66c32195",
   "metadata": {},
   "outputs": [
    {
     "name": "stdout",
     "output_type": "stream",
     "text": [
      "[1, 2, 3, 4, 5, 6, 7]\n",
      "Reversed List : \n",
      "[7, 6, 5, 4, 3, 2, 1]\n"
     ]
    }
   ],
   "source": [
    "#2 Program\n",
    "def revList(A,start,end):\n",
    "    while start < end:\n",
    "        A[start], A[end] =A[end] , A[start]\n",
    "        start +=1\n",
    "        end -=1\n",
    "A =[1,2,3,4,5,6,7]\n",
    "print(A)\n",
    "revList(A,0,6)\n",
    "print(\"Reversed List : \")\n",
    "print(A)\n",
    "    \n",
    "    "
   ]
  },
  {
   "cell_type": "code",
   "execution_count": 8,
   "id": "aa54108e",
   "metadata": {},
   "outputs": [
    {
     "name": "stdout",
     "output_type": "stream",
     "text": [
      "String are rotation of each other\n"
     ]
    }
   ],
   "source": [
    "#3 Program\n",
    "def checkString(s1,s2,indexFound,Size):\n",
    "    if (s1[i] != s2[(indexFound + i) % Size]):\n",
    "        return False\n",
    "    return True\n",
    "s1 = \"abcd\"\n",
    "s2 = \"cdab\"\n",
    "if(len(s1) != len(s2)):\n",
    "    print(\"s2 is not a rotation on s1\")\n",
    "else:\n",
    "    indexes = []\n",
    "    Size = len(s1)\n",
    "    firstChar = s1[0]\n",
    "    for i in range(Size):\n",
    "        if(s2[i] == firstChar):\n",
    "            indexes.append(i)\n",
    "    isRotation = False\n",
    "    for idx in indexes:\n",
    "        isRotation = checkString(s1,s2,idx,Size)\n",
    "        if(isRotation):\n",
    "            break\n",
    "    if(isRotation):\n",
    "        print(\"String are rotation of each other\")\n",
    "    else:\n",
    "        print(\"Strings are not rotation of each other\")\n",
    "        "
   ]
  },
  {
   "cell_type": "code",
   "execution_count": 17,
   "id": "fb10eb62",
   "metadata": {},
   "outputs": [
    {
     "name": "stdout",
     "output_type": "stream",
     "text": [
      "First non-repeating character is g\n"
     ]
    }
   ],
   "source": [
    "#4 Program\n",
    "\n",
    "\n",
    " \n",
    " \n",
    "def FirstNonRepeat(s):\n",
    " \n",
    "    for i in s:\n",
    " \n",
    "        if (s.find(i, (s.find(i)+1))) == -1:\n",
    " \n",
    "            print(\"First non-repeating character is\", i)\n",
    " \n",
    "            break\n",
    " \n",
    "    return\n",
    " \n",
    "\n",
    " \n",
    " \n",
    "s = 'grammar'\n",
    " \n",
    "FirstNonRepeat(s)"
   ]
  },
  {
   "cell_type": "code",
   "execution_count": 19,
   "id": "1291ba88",
   "metadata": {},
   "outputs": [
    {
     "name": "stdout",
     "output_type": "stream",
     "text": [
      "Move disk 1 from rod A to rod C\n",
      "Move disk 2 from rod A to rod B\n",
      "Move disk 1 from rod C to rod B\n",
      "Move disk 3 from rod A to rod C\n",
      "Move disk 1 from rod B to rod A\n",
      "Move disk 2 from rod B to rod C\n",
      "Move disk 1 from rod A to rod C\n"
     ]
    }
   ],
   "source": [
    "#5 Program\n",
    "def TowerOfHanoi(n,from_rod, to_rod,aux_rod):\n",
    "    if n==0:\n",
    "        return\n",
    "    TowerOfHanoi(n-1,from_rod,aux_rod,to_rod)\n",
    "    print(\"Move disk\",n,\"from rod\",from_rod,\"to rod\", to_rod)\n",
    "    TowerOfHanoi(n-1,aux_rod,to_rod,from_rod)\n",
    "N = 3\n",
    "TowerOfHanoi(N,'A','C','B')"
   ]
  },
  {
   "cell_type": "code",
   "execution_count": 26,
   "id": "738633de",
   "metadata": {},
   "outputs": [
    {
     "name": "stdout",
     "output_type": "stream",
     "text": [
      "Prefix :  +AB-CD\n"
     ]
    }
   ],
   "source": [
    "#6 Program\n",
    "\n",
    "def isOperator(x):\n",
    " \n",
    "    if x == \"+\":\n",
    "        return True\n",
    " \n",
    "    if x == \"-\":\n",
    "        return True\n",
    " \n",
    "    if x == \"/\":\n",
    "        return True\n",
    " \n",
    "    if x == \"*\":\n",
    "        return True\n",
    " \n",
    "    return False\n",
    "def postToPre(post_exp):\n",
    " \n",
    "    s = []\n",
    " \n",
    "    \n",
    "    length = len(post_exp)\n",
    " \n",
    "    \n",
    "    for i in range(length):\n",
    " \n",
    "        \n",
    "        if (isOperator(post_exp[i])):\n",
    " \n",
    "            \n",
    "            op1 = s[-1]\n",
    "            s.pop()\n",
    "            op2 = s[-1]\n",
    "            s.pop()\n",
    " \n",
    "            \n",
    "            temp = post_exp[i] + op2 + op1\n",
    " \n",
    "            \n",
    "            s.append(temp)\n",
    " \n",
    "        \n",
    "        else:\n",
    " \n",
    "            \n",
    "            s.append(post_exp[i])\n",
    " \n",
    "    \n",
    "    ans = \"\"\n",
    "    for i in s:\n",
    "        ans += i\n",
    "    return ans\n",
    " \n",
    " \n",
    "\n",
    "if __name__ == \"__main__\":\n",
    " \n",
    "    post_exp = \"AB+CD-\"\n",
    "     \n",
    "    \n",
    "    print(\"Prefix : \", postToPre(post_exp))"
   ]
  },
  {
   "cell_type": "code",
   "execution_count": 28,
   "id": "a611f057",
   "metadata": {},
   "outputs": [
    {
     "name": "stdout",
     "output_type": "stream",
     "text": [
      "((A-(B/C))*((A/K)-L))\n"
     ]
    }
   ],
   "source": [
    "#7 Program\n",
    "def prefixToInfix(prefix):\n",
    "    stack = []\n",
    "    i = len(prefix) - 1\n",
    "    while i>= 0:\n",
    "        if not isOperator(prefix[i]):\n",
    "            stack.append(prefix[i])\n",
    "            i -= 1\n",
    "        else:\n",
    "            str = \"(\" + stack.pop() + prefix[i] + stack.pop() + \")\"\n",
    "            stack.append(str)\n",
    "            i -= 1\n",
    "     \n",
    "    return stack.pop()\n",
    " \n",
    "def isOperator(c):\n",
    "    if c == \"*\" or c == \"+\" or c == \"-\" or c == \"/\" or c == \"^\" or c == \"(\" or c == \")\":\n",
    "        return True\n",
    "    else:\n",
    "        return False\n",
    " \n",
    "\n",
    "if __name__==\"__main__\":\n",
    "    str = \"*-A/BC-/AKL\"\n",
    "    print(prefixToInfix(str))"
   ]
  },
  {
   "cell_type": "code",
   "execution_count": 29,
   "id": "b370e2b0",
   "metadata": {},
   "outputs": [
    {
     "name": "stdout",
     "output_type": "stream",
     "text": [
      "Balanced\n"
     ]
    }
   ],
   "source": [
    "#8 Program\n",
    "def areBracketsBalanced(expr):\n",
    "    stack = []\n",
    "\n",
    "    for char in expr:\n",
    "        if char in [\"(\", \"{\", \"[\"]:\n",
    "\n",
    "            stack.append(char)\n",
    "        else:\n",
    "\n",
    "            if not stack:\n",
    "                return False\n",
    "            current_char = stack.pop()\n",
    "            if current_char == '(':\n",
    "                if char != \")\":\n",
    "                    return False\n",
    "            if current_char == '{':\n",
    "                if char != \"}\":\n",
    "                    return False\n",
    "            if current_char == '[':\n",
    "                if char != \"]\":\n",
    "                    return False\n",
    "\n",
    "    if stack:\n",
    "        return False\n",
    "    return True\n",
    "\n",
    "if __name__ == \"__main__\":\n",
    "    expr = \"{()}[]\"\n",
    "\n",
    "    if areBracketsBalanced(expr):\n",
    "        print(\"Balanced\")\n",
    "    else:\n",
    "        print(\"Not Balanced\")"
   ]
  },
  {
   "cell_type": "code",
   "execution_count": 30,
   "id": "beb10dd6",
   "metadata": {},
   "outputs": [
    {
     "name": "stdout",
     "output_type": "stream",
     "text": [
      "Original Stack\n",
      "5\n",
      "4\n",
      "3\n",
      "2\n",
      "1\n",
      "\n",
      "Stack after Reversing\n",
      "1\n",
      "2\n",
      "3\n",
      "4\n",
      "5\n"
     ]
    }
   ],
   "source": [
    "#9 Program \n",
    "class Stack:\n",
    "\n",
    "    def __init__(self):\n",
    "        self.Elements = []\n",
    "\n",
    "    def push(self, value):\n",
    "        self.Elements.append(value)\n",
    "        \n",
    "    def pop(self):\n",
    "        return self.Elements.pop()\n",
    "    \n",
    "    def empty(self):\n",
    "        return self.Elements == []\n",
    "\n",
    "    def show(self):\n",
    "        for value in reversed(self.Elements):\n",
    "            print(value)\n",
    "\n",
    "def BottomInsert(s, value):\n",
    "\n",
    "    if s.empty():\n",
    "\n",
    "        s.push(value)\n",
    "\n",
    "    else:\n",
    "        popped = s.pop()\n",
    "        BottomInsert(s, value)\n",
    "        s.push(popped)\n",
    "\n",
    "def Reverse(s):\n",
    "    if s.empty():\n",
    "        pass\n",
    "    else:\n",
    "        popped = s.pop()\n",
    "        Reverse(s)\n",
    "        BottomInsert(s, popped)\n",
    "\n",
    "stk = Stack()\n",
    "\n",
    "stk.push(1)\n",
    "stk.push(2)\n",
    "stk.push(3)\n",
    "stk.push(4)\n",
    "stk.push(5)\n",
    "\n",
    "print(\"Original Stack\")\n",
    "stk.show()\n",
    "\n",
    "print(\"\\nStack after Reversing\")\n",
    "Reverse(stk)\n",
    "stk.show()"
   ]
  },
  {
   "cell_type": "code",
   "execution_count": 32,
   "id": "de200339",
   "metadata": {},
   "outputs": [
    {
     "name": "stdout",
     "output_type": "stream",
     "text": [
      "How many numbers: 10\n",
      "Enter number: 6\n",
      "Enter number: 9\n",
      "Enter number: 8\n",
      "Enter number: 6\n",
      "Enter number: 5\n",
      "Enter number: 4\n",
      "Enter number: 3\n",
      "Enter number: 2\n",
      "Enter number: 7\n",
      "Enter number: 10\n",
      "Smallest number in the list is :   2\n"
     ]
    }
   ],
   "source": [
    "#10 Program\n",
    "First = []\n",
    "num = int(input('How many numbers: '))\n",
    "\n",
    "for n in range(num):\n",
    "    numbers = int(input('Enter number: '))\n",
    "    First.append(numbers)\n",
    "    \n",
    "print(\"Smallest number in the list is :  \", min(First))"
   ]
  },
  {
   "cell_type": "code",
   "execution_count": null,
   "id": "fd464ca1",
   "metadata": {},
   "outputs": [],
   "source": []
  }
 ],
 "metadata": {
  "kernelspec": {
   "display_name": "Python 3 (ipykernel)",
   "language": "python",
   "name": "python3"
  },
  "language_info": {
   "codemirror_mode": {
    "name": "ipython",
    "version": 3
   },
   "file_extension": ".py",
   "mimetype": "text/x-python",
   "name": "python",
   "nbconvert_exporter": "python",
   "pygments_lexer": "ipython3",
   "version": "3.10.9"
  }
 },
 "nbformat": 4,
 "nbformat_minor": 5
}
